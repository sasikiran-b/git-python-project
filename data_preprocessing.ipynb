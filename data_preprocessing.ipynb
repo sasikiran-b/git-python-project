{
  "nbformat": 4,
  "nbformat_minor": 0,
  "metadata": {
    "colab": {
      "name": "data_preprocessing.ipynb",
      "provenance": [],
      "authorship_tag": "ABX9TyMMIvKdjVYstDcoqDyf4Dzd",
      "include_colab_link": true
    },
    "kernelspec": {
      "name": "python3",
      "display_name": "Python 3"
    },
    "language_info": {
      "name": "python"
    }
  },
  "cells": [
    {
      "cell_type": "markdown",
      "metadata": {
        "id": "view-in-github",
        "colab_type": "text"
      },
      "source": [
        "<a href=\"https://colab.research.google.com/github/sasikiran-b/git-python-project/blob/main/data_preprocessing.ipynb\" target=\"_parent\"><img src=\"https://colab.research.google.com/assets/colab-badge.svg\" alt=\"Open In Colab\"/></a>"
      ]
    },
    {
      "cell_type": "code",
      "metadata": {
        "colab": {
          "base_uri": "https://localhost:8080/",
          "height": 203
        },
        "id": "fmrjpmgRyfui",
        "outputId": "11682de1-152a-47e3-b2db-580c4a619abd"
      },
      "source": [
        "#step-1: import data from csv\n",
        "import pandas as pd \n",
        "data = pd.read_csv('Data.csv')\n",
        "data.head()"
      ],
      "execution_count": 2,
      "outputs": [
        {
          "output_type": "execute_result",
          "data": {
            "text/html": [
              "<div>\n",
              "<style scoped>\n",
              "    .dataframe tbody tr th:only-of-type {\n",
              "        vertical-align: middle;\n",
              "    }\n",
              "\n",
              "    .dataframe tbody tr th {\n",
              "        vertical-align: top;\n",
              "    }\n",
              "\n",
              "    .dataframe thead th {\n",
              "        text-align: right;\n",
              "    }\n",
              "</style>\n",
              "<table border=\"1\" class=\"dataframe\">\n",
              "  <thead>\n",
              "    <tr style=\"text-align: right;\">\n",
              "      <th></th>\n",
              "      <th>Country</th>\n",
              "      <th>Age</th>\n",
              "      <th>Salary</th>\n",
              "      <th>Purchased</th>\n",
              "    </tr>\n",
              "  </thead>\n",
              "  <tbody>\n",
              "    <tr>\n",
              "      <th>0</th>\n",
              "      <td>France</td>\n",
              "      <td>44.0</td>\n",
              "      <td>72000.0</td>\n",
              "      <td>No</td>\n",
              "    </tr>\n",
              "    <tr>\n",
              "      <th>1</th>\n",
              "      <td>Spain</td>\n",
              "      <td>27.0</td>\n",
              "      <td>48000.0</td>\n",
              "      <td>Yes</td>\n",
              "    </tr>\n",
              "    <tr>\n",
              "      <th>2</th>\n",
              "      <td>Germany</td>\n",
              "      <td>30.0</td>\n",
              "      <td>54000.0</td>\n",
              "      <td>No</td>\n",
              "    </tr>\n",
              "    <tr>\n",
              "      <th>3</th>\n",
              "      <td>Spain</td>\n",
              "      <td>38.0</td>\n",
              "      <td>61000.0</td>\n",
              "      <td>No</td>\n",
              "    </tr>\n",
              "    <tr>\n",
              "      <th>4</th>\n",
              "      <td>Germany</td>\n",
              "      <td>40.0</td>\n",
              "      <td>NaN</td>\n",
              "      <td>Yes</td>\n",
              "    </tr>\n",
              "  </tbody>\n",
              "</table>\n",
              "</div>"
            ],
            "text/plain": [
              "   Country   Age   Salary Purchased\n",
              "0   France  44.0  72000.0        No\n",
              "1    Spain  27.0  48000.0       Yes\n",
              "2  Germany  30.0  54000.0        No\n",
              "3    Spain  38.0  61000.0        No\n",
              "4  Germany  40.0      NaN       Yes"
            ]
          },
          "metadata": {},
          "execution_count": 2
        }
      ]
    },
    {
      "cell_type": "code",
      "metadata": {
        "colab": {
          "base_uri": "https://localhost:8080/"
        },
        "id": "3JD36dzjz-sB",
        "outputId": "072e4358-44c8-44c3-a132-1157fc41c04c"
      },
      "source": [
        "data.columns"
      ],
      "execution_count": 3,
      "outputs": [
        {
          "output_type": "execute_result",
          "data": {
            "text/plain": [
              "Index(['Country', 'Age', 'Salary', 'Purchased'], dtype='object')"
            ]
          },
          "metadata": {},
          "execution_count": 3
        }
      ]
    },
    {
      "cell_type": "code",
      "metadata": {
        "colab": {
          "base_uri": "https://localhost:8080/"
        },
        "id": "AxXNoPUz0Ee9",
        "outputId": "1703b288-1e7d-4ed1-f2e7-7e05db38c246"
      },
      "source": [
        "data['Country']"
      ],
      "execution_count": 4,
      "outputs": [
        {
          "output_type": "execute_result",
          "data": {
            "text/plain": [
              "0     France\n",
              "1      Spain\n",
              "2    Germany\n",
              "3      Spain\n",
              "4    Germany\n",
              "5     France\n",
              "6      Spain\n",
              "7     France\n",
              "8    Germany\n",
              "9     France\n",
              "Name: Country, dtype: object"
            ]
          },
          "metadata": {},
          "execution_count": 4
        }
      ]
    },
    {
      "cell_type": "code",
      "metadata": {
        "id": "fBzpk3A90GmL"
      },
      "source": [
        "#Step - 2 : Separate both i/p & o/p\n"
      ],
      "execution_count": 5,
      "outputs": []
    },
    {
      "cell_type": "code",
      "metadata": {
        "colab": {
          "base_uri": "https://localhost:8080/"
        },
        "id": "MymRSnNG0Okw",
        "outputId": "0bd23f7f-a2b2-46f7-da8e-239c1a9d0617"
      },
      "source": [
        "#Independent Variables - Country, Age, Salary\n",
        "X = data.iloc[:,0:3].values\n",
        "print(X)"
      ],
      "execution_count": 7,
      "outputs": [
        {
          "output_type": "stream",
          "name": "stdout",
          "text": [
            "[['France' 44.0 72000.0]\n",
            " ['Spain' 27.0 48000.0]\n",
            " ['Germany' 30.0 54000.0]\n",
            " ['Spain' 38.0 61000.0]\n",
            " ['Germany' 40.0 nan]\n",
            " ['France' 35.0 58000.0]\n",
            " ['Spain' nan 52000.0]\n",
            " ['France' 48.0 79000.0]\n",
            " ['Germany' 50.0 83000.0]\n",
            " ['France' 37.0 67000.0]]\n"
          ]
        }
      ]
    },
    {
      "cell_type": "code",
      "metadata": {
        "colab": {
          "base_uri": "https://localhost:8080/"
        },
        "id": "W43CtVyw0XQI",
        "outputId": "2aca5155-bb06-4505-86f1-7cf1f65710d8"
      },
      "source": [
        "#Dependent Variables - Purchased\n",
        "Y = data.iloc[:, -1].values\n",
        "print(Y)"
      ],
      "execution_count": 8,
      "outputs": [
        {
          "output_type": "stream",
          "name": "stdout",
          "text": [
            "['No' 'Yes' 'No' 'No' 'Yes' 'Yes' 'No' 'Yes' 'No' 'Yes']\n"
          ]
        }
      ]
    },
    {
      "cell_type": "code",
      "metadata": {
        "id": "53f1i-wK0fqv"
      },
      "source": [
        "#Step - 3 : Handle Missing Data"
      ],
      "execution_count": 9,
      "outputs": []
    },
    {
      "cell_type": "code",
      "metadata": {
        "colab": {
          "base_uri": "https://localhost:8080/"
        },
        "id": "3uguRFiy0k4D",
        "outputId": "3bef1101-a47b-4e79-bb4d-14237b1a7e1d"
      },
      "source": [
        "print(data.isna())"
      ],
      "execution_count": 10,
      "outputs": [
        {
          "output_type": "stream",
          "name": "stdout",
          "text": [
            "   Country    Age  Salary  Purchased\n",
            "0    False  False   False      False\n",
            "1    False  False   False      False\n",
            "2    False  False   False      False\n",
            "3    False  False   False      False\n",
            "4    False  False    True      False\n",
            "5    False  False   False      False\n",
            "6    False   True   False      False\n",
            "7    False  False   False      False\n",
            "8    False  False   False      False\n",
            "9    False  False   False      False\n"
          ]
        }
      ]
    },
    {
      "cell_type": "code",
      "metadata": {
        "colab": {
          "base_uri": "https://localhost:8080/"
        },
        "id": "pFA26AZT0nfR",
        "outputId": "b16065f6-8ec1-4c5e-e9c3-e55ad7c49604"
      },
      "source": [
        "from sklearn.impute import SimpleImputer\n",
        "import numpy as np\n",
        "imputer = SimpleImputer(missing_values=np.nan, strategy=\"mean\")\n",
        "X[:,1:3]=imputer.fit_transform(X[:, 1:3])\n",
        "print(X)"
      ],
      "execution_count": 11,
      "outputs": [
        {
          "output_type": "stream",
          "name": "stdout",
          "text": [
            "[['France' 44.0 72000.0]\n",
            " ['Spain' 27.0 48000.0]\n",
            " ['Germany' 30.0 54000.0]\n",
            " ['Spain' 38.0 61000.0]\n",
            " ['Germany' 40.0 63777.77777777778]\n",
            " ['France' 35.0 58000.0]\n",
            " ['Spain' 38.77777777777778 52000.0]\n",
            " ['France' 48.0 79000.0]\n",
            " ['Germany' 50.0 83000.0]\n",
            " ['France' 37.0 67000.0]]\n"
          ]
        }
      ]
    },
    {
      "cell_type": "code",
      "metadata": {
        "id": "IK_pVSg10qNx"
      },
      "source": [
        "#Step - 4 : Handle Categorical Data"
      ],
      "execution_count": 12,
      "outputs": []
    },
    {
      "cell_type": "code",
      "metadata": {
        "id": "g1jOLHpa0xNQ"
      },
      "source": [
        "#Independent Variable at index 0\n"
      ],
      "execution_count": null,
      "outputs": []
    },
    {
      "cell_type": "code",
      "metadata": {
        "colab": {
          "base_uri": "https://localhost:8080/"
        },
        "id": "lQPiRK10FaeB",
        "outputId": "e65c18f6-20d3-4202-ecd8-b82951546af1"
      },
      "source": [
        "from sklearn.compose import ColumnTransformer\n",
        "from sklearn .preprocessing import OneHotEncoder\n",
        "composer = ColumnTransformer(transformers=[('encoder', OneHotEncoder(),[0])], remainder='passthrough')\n",
        "X = composer.fit_transform(X)\n",
        "print(X)"
      ],
      "execution_count": 13,
      "outputs": [
        {
          "output_type": "stream",
          "name": "stdout",
          "text": [
            "[[1.0 0.0 0.0 44.0 72000.0]\n",
            " [0.0 0.0 1.0 27.0 48000.0]\n",
            " [0.0 1.0 0.0 30.0 54000.0]\n",
            " [0.0 0.0 1.0 38.0 61000.0]\n",
            " [0.0 1.0 0.0 40.0 63777.77777777778]\n",
            " [1.0 0.0 0.0 35.0 58000.0]\n",
            " [0.0 0.0 1.0 38.77777777777778 52000.0]\n",
            " [1.0 0.0 0.0 48.0 79000.0]\n",
            " [0.0 1.0 0.0 50.0 83000.0]\n",
            " [1.0 0.0 0.0 37.0 67000.0]]\n"
          ]
        }
      ]
    },
    {
      "cell_type": "code",
      "metadata": {
        "id": "9QVk2WOn090a"
      },
      "source": [
        "#Dependent Variable"
      ],
      "execution_count": 14,
      "outputs": []
    },
    {
      "cell_type": "code",
      "metadata": {
        "colab": {
          "base_uri": "https://localhost:8080/"
        },
        "id": "wMVdFW5I1B6I",
        "outputId": "a8b272f4-b33e-404d-df57-b5e6f5a874da"
      },
      "source": [
        "from sklearn.preprocessing import LabelEncoder\n",
        "le = LabelEncoder()\n",
        "Y = le.fit_transform(Y)\n",
        "print(Y)"
      ],
      "execution_count": 15,
      "outputs": [
        {
          "output_type": "stream",
          "name": "stdout",
          "text": [
            "[0 1 0 0 1 1 0 1 0 1]\n"
          ]
        }
      ]
    },
    {
      "cell_type": "code",
      "metadata": {
        "id": "O7Wo8blp1EgB"
      },
      "source": [
        "#Step - 5 : Feature Scaling"
      ],
      "execution_count": 16,
      "outputs": []
    },
    {
      "cell_type": "code",
      "metadata": {
        "colab": {
          "base_uri": "https://localhost:8080/"
        },
        "id": "rXnD9Rbp1OiZ",
        "outputId": "ed802ea5-906e-4fb4-88c8-b502ced4ed1e"
      },
      "source": [
        "from sklearn.preprocessing import StandardScaler\n",
        "scaler = StandardScaler()\n",
        "X[:,3:5] = scaler.fit_transform(X[:,3:5])\n",
        "print(X)"
      ],
      "execution_count": 17,
      "outputs": [
        {
          "output_type": "stream",
          "name": "stdout",
          "text": [
            "[[1.0 0.0 0.0 0.758874361590019 0.7494732544921677]\n",
            " [0.0 0.0 1.0 -1.7115038793306814 -1.4381784072687531]\n",
            " [0.0 1.0 0.0 -1.2755547779917342 -0.8912654918285229]\n",
            " [0.0 0.0 1.0 -0.1130238410878753 -0.253200423814921]\n",
            " [0.0 1.0 0.0 0.17760889313808945 6.632191985654332e-16]\n",
            " [1.0 0.0 0.0 -0.5489729424268225 -0.5266568815350361]\n",
            " [0.0 0.0 1.0 0.0 -1.0735697969752662]\n",
            " [1.0 0.0 0.0 1.3401398300419485 1.3875383225057696]\n",
            " [0.0 1.0 0.0 1.6307725642679132 1.7521469327992565]\n",
            " [1.0 0.0 0.0 -0.2583402082008577 0.29371249162530916]]\n"
          ]
        }
      ]
    },
    {
      "cell_type": "code",
      "metadata": {
        "id": "8Xo1AeN21Qp9"
      },
      "source": [
        "#Step - 6 : Splitting the data into train and test."
      ],
      "execution_count": 18,
      "outputs": []
    },
    {
      "cell_type": "code",
      "metadata": {
        "id": "v_a_84GN1TsS"
      },
      "source": [
        "from sklearn.model_selection import train_test_split\n",
        "X_train, X_test, Y_train, Y_test = train_test_split(X,Y, test_size=0.2)"
      ],
      "execution_count": 19,
      "outputs": []
    },
    {
      "cell_type": "code",
      "metadata": {
        "id": "2h1pTHSH1aVb"
      },
      "source": [
        ""
      ],
      "execution_count": null,
      "outputs": []
    }
  ]
}